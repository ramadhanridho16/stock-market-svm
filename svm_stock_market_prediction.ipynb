{
  "nbformat": 4,
  "nbformat_minor": 0,
  "metadata": {
    "colab": {
      "name": "svm-stock-market-prediction.ipynb",
      "provenance": [],
      "mount_file_id": "1wV4d7tKBJaoOe4Xw7fS1isYEQsUjBeHS",
      "authorship_tag": "ABX9TyOub4JhowjAcgtVKLU8O4Kr",
      "include_colab_link": true
    },
    "kernelspec": {
      "name": "python3",
      "display_name": "Python 3"
    },
    "language_info": {
      "name": "python"
    }
  },
  "cells": [
    {
      "cell_type": "markdown",
      "metadata": {
        "id": "view-in-github",
        "colab_type": "text"
      },
      "source": [
        "<a href=\"https://colab.research.google.com/github/ramadhanridho16/stock-market-svm/blob/main/svm_stock_market_prediction.ipynb\" target=\"_parent\"><img src=\"https://colab.research.google.com/assets/colab-badge.svg\" alt=\"Open In Colab\"/></a>"
      ]
    },
    {
      "cell_type": "markdown",
      "source": [
        "##Data Preparing and Visualization"
      ],
      "metadata": {
        "id": "3D1Le8z-KXRW"
      }
    },
    {
      "cell_type": "code",
      "execution_count": 1,
      "metadata": {
        "id": "MThdhsIy0SC4"
      },
      "outputs": [],
      "source": [
        "# import modul yang digunakan untuk visualisasi data\n",
        "import numpy as np\n",
        "import pandas as pd\n",
        "import matplotlib.pyplot as plt\n",
        "import seaborn as sns\n",
        "import datetime\n",
        "import warnings\n",
        "warnings.filterwarnings('ignore')\n"
      ]
    },
    {
      "cell_type": "code",
      "source": [
        ""
      ],
      "metadata": {
        "id": "_nbOLsK1MxXR"
      },
      "execution_count": null,
      "outputs": []
    }
  ]
}